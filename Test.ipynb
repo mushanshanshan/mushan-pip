{
 "cells": [
  {
   "cell_type": "code",
   "execution_count": 1,
   "metadata": {},
   "outputs": [
    {
     "name": "stderr",
     "output_type": "stream",
     "text": [
      "/home/mushan/Experiment/mushan/mushan/ml/func.py:4: RuntimeWarning: invalid value encountered in true_divide\n",
      "  return np.dot(a, b)/(np.linalg.norm(a) * np.linalg.norm(b))\n"
     ]
    },
    {
     "data": {
      "text/plain": [
       "array([nan, nan, nan, nan, nan, nan, nan, nan, nan, nan])"
      ]
     },
     "execution_count": 1,
     "metadata": {},
     "output_type": "execute_result"
    }
   ],
   "source": [
    "from mushan import ml\n",
    "import numpy as np\n",
    "\n",
    "a = np.zeros(10)\n",
    "b = np.random.uniform(10)\n",
    "\t\t\n",
    "ml.cossim(a,b)"
   ]
  },
  {
   "cell_type": "code",
   "execution_count": null,
   "metadata": {},
   "outputs": [],
   "source": []
  },
  {
   "cell_type": "code",
   "execution_count": null,
   "metadata": {},
   "outputs": [],
   "source": []
  }
 ],
 "metadata": {
  "kernelspec": {
   "display_name": "Python 3.7.12 ('audio')",
   "language": "python",
   "name": "python3"
  },
  "language_info": {
   "codemirror_mode": {
    "name": "ipython",
    "version": 3
   },
   "file_extension": ".py",
   "mimetype": "text/x-python",
   "name": "python",
   "nbconvert_exporter": "python",
   "pygments_lexer": "ipython3",
   "version": "3.7.12"
  },
  "orig_nbformat": 4,
  "vscode": {
   "interpreter": {
    "hash": "888914dd1103c9ea8093861a5d525db9b7370fd8c768ae6ad2016a8c8a3a1c9d"
   }
  }
 },
 "nbformat": 4,
 "nbformat_minor": 2
}
